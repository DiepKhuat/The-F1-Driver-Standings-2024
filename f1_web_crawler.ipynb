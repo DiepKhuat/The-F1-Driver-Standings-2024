{
 "cells": [
  {
   "cell_type": "markdown",
   "metadata": {},
   "source": []
  },
  {
   "cell_type": "markdown",
   "metadata": {},
   "source": [
    "## Scraping Data from a Formula 1 website and EDA\n",
    "### 1. Web Scraping"
   ]
  },
  {
   "cell_type": "code",
   "execution_count": 97,
   "metadata": {},
   "outputs": [],
   "source": [
    "import requests\n",
    "from bs4 import BeautifulSoup\n",
    "import pandas as pd\n",
    "import matplotlib.pyplot as plt\n",
    "import seaborn as sns"
   ]
  },
  {
   "cell_type": "code",
   "execution_count": 46,
   "metadata": {},
   "outputs": [],
   "source": [
    "url = 'https://www.formula1.com/en/results/2024/drivers'\n",
    "response = requests.get(url) \n",
    "## Nhờ lib request send đến url và đông thời trả kq qua biến response"
   ]
  },
  {
   "cell_type": "code",
   "execution_count": 47,
   "metadata": {},
   "outputs": [
    {
     "data": {
      "text/plain": [
       "<Response [200]>"
      ]
     },
     "execution_count": 47,
     "metadata": {},
     "output_type": "execute_result"
    }
   ],
   "source": [
    "response"
   ]
  },
  {
   "cell_type": "code",
   "execution_count": 106,
   "metadata": {},
   "outputs": [],
   "source": [
    "# response.content ## Source code"
   ]
  },
  {
   "cell_type": "code",
   "execution_count": 49,
   "metadata": {},
   "outputs": [
    {
     "name": "stdout",
     "output_type": "stream",
     "text": [
      "[<td class=\"p-normal whitespace-nowrap\"><p class=\"f1-text font-titillium tracking-normal font-normal non-italic normal-case leading-none f1-text__micro text-fs-15px\">1</p></td>, <td class=\"p-normal whitespace-nowrap\"><p class=\"f1-text font-titillium tracking-normal font-normal non-italic normal-case leading-none f1-text__micro text-fs-15px\"><a class=\"underline underline-offset-normal decoration-1 decoration-greyLight hover:decoration-brand-primary\" href=\"drivers/MAXVER01/max-verstappen\"><span class=\"max-desktop:hidden\">Max</span> <span class=\"max-tablet:hidden\">Verstappen</span><span class=\"tablet:hidden\">VER</span></a></p></td>, <td class=\"p-normal whitespace-nowrap\"><p class=\"f1-text font-titillium tracking-normal font-normal non-italic normal-case leading-none f1-text__micro text-fs-15px\">NED</p></td>, <td class=\"p-normal whitespace-nowrap\"><p class=\"f1-text font-titillium tracking-normal font-normal non-italic normal-case leading-none f1-text__micro text-fs-15px\"><a class=\"underline underline-offset-normal decoration-1 decoration-greyLight hover:decoration-brand-primary\" href=\"team/Red-Bull-Racing-Honda-RBPT\">Red Bull Racing Honda RBPT</a></p></td>, <td class=\"p-normal whitespace-nowrap\"><p class=\"f1-text font-titillium tracking-normal font-normal non-italic normal-case leading-none f1-text__micro text-fs-15px\">277</p></td>]\n"
     ]
    }
   ],
   "source": [
    "if response.status_code ==200:\n",
    "    soup = BeautifulSoup(response.content, 'html.parser')\n",
    "    table = soup.find('table', class_='f1-table f1-table-with-data w-full')\n",
    "    #Extract the rows of the table\n",
    "    rows =table.find_all('tr')\n",
    "\n",
    "    for row_id, row in enumerate(rows):\n",
    "        columns = row.find_all('td')\n",
    "        #print (f\"row={row_id}:{columns}\")\n",
    "        if columns:\n",
    "            #position = columns[0].text.strip()\n",
    "            #drive_name = columns[1].text.strip()\n",
    "            #print(position, drive_name)\n",
    "            print(columns)\n",
    "            break\n"
   ]
  },
  {
   "cell_type": "code",
   "execution_count": 50,
   "metadata": {},
   "outputs": [
    {
     "data": {
      "text/plain": [
       "'2024 DRIVER STANDINGS'"
      ]
     },
     "execution_count": 50,
     "metadata": {},
     "output_type": "execute_result"
    }
   ],
   "source": [
    "soup.title.text"
   ]
  },
  {
   "cell_type": "code",
   "execution_count": 51,
   "metadata": {},
   "outputs": [
    {
     "name": "stdout",
     "output_type": "stream",
     "text": [
      "   Position           Drive_name Nationality                           Car  \\\n",
      "0         1       Max Verstappen         NED    Red Bull Racing Honda RBPT   \n",
      "1         2      Lando NorrisNOR         GBR              McLaren Mercedes   \n",
      "2         3   Charles LeclercLEC         MON                       Ferrari   \n",
      "3         4     Oscar PiastriPIA         AUS              McLaren Mercedes   \n",
      "4         5      Carlos SainzSAI         ESP                       Ferrari   \n",
      "5         6    Lewis HamiltonHAM         GBR                      Mercedes   \n",
      "6         7      Sergio PerezPER         MEX    Red Bull Racing Honda RBPT   \n",
      "7         8    George RussellRUS         GBR                      Mercedes   \n",
      "8         9   Fernando AlonsoALO         ESP  Aston Martin Aramco Mercedes   \n",
      "9        10      Lance StrollSTR         CAN  Aston Martin Aramco Mercedes   \n",
      "10       11   Nico HulkenbergHUL         GER                  Haas Ferrari   \n",
      "11       12      Yuki TsunodaTSU         JPN                 RB Honda RBPT   \n",
      "12       13  Daniel RicciardoRIC         AUS                 RB Honda RBPT   \n",
      "13       14    Oliver BearmanBEA         GBR                       Ferrari   \n",
      "14       15      Pierre GaslyGAS         FRA                Alpine Renault   \n",
      "15       16   Kevin MagnussenMAG         DEN                  Haas Ferrari   \n",
      "16       17      Esteban OconOCO         FRA                Alpine Renault   \n",
      "17       18   Alexander AlbonALB         THA             Williams Mercedes   \n",
      "18       19       Zhou GuanyuZHO         CHN           Kick Sauber Ferrari   \n",
      "19       20    Logan SargeantSAR         USA             Williams Mercedes   \n",
      "20       21   Valtteri BottasBOT         FIN           Kick Sauber Ferrari   \n",
      "\n",
      "   Point  \n",
      "0    277  \n",
      "1    199  \n",
      "2    177  \n",
      "3    167  \n",
      "4    162  \n",
      "5    150  \n",
      "6    131  \n",
      "7    116  \n",
      "8     49  \n",
      "9     24  \n",
      "10    22  \n",
      "11    22  \n",
      "12    12  \n",
      "13     6  \n",
      "14     6  \n",
      "15     5  \n",
      "16     5  \n",
      "17     4  \n",
      "18     0  \n",
      "19     0  \n",
      "20     0  \n"
     ]
    }
   ],
   "source": [
    "df = pd.DataFrame(columns=[\"Position\",\"Drive_name\",\"Nationality\",\"Car\",\"Point\"])\n",
    "for row_id, row in enumerate(rows):\n",
    "    columns = row.find_all('td')\n",
    "    #print (f\"row={row_id}:{columns}\")\n",
    "    if columns:\n",
    "        position = columns[0].text\n",
    "        drive_name = columns[1].text.replace (\"VER\", '')\n",
    "\n",
    "        nationality = columns[2].text\n",
    "        car = columns[3].text\n",
    "        pts = columns[4].text\n",
    "        \n",
    "        length = len(df)\n",
    "        df.loc[length] = [position, drive_name, nationality, car, pts]\n",
    "        # print(f\"Position : {position}\\\n",
    "        #       \\nDrive_name : {drive_name}\\\n",
    "        #       \\nNationality : {nationality}\\\n",
    "        #       \\nCar : {car}\\\n",
    "        #       \\nPoint : {pts}\\n\\n\")\n",
    "print(df)"
   ]
  },
  {
   "cell_type": "code",
   "execution_count": 52,
   "metadata": {},
   "outputs": [],
   "source": [
    "df.to_csv(r'C:\\Users\\USER\\f1_crawling\\2024 Driver Standings.csv', index =False)"
   ]
  },
  {
   "cell_type": "markdown",
   "metadata": {},
   "source": [
    "### 2.EDA"
   ]
  },
  {
   "cell_type": "code",
   "execution_count": 53,
   "metadata": {},
   "outputs": [
    {
     "name": "stdout",
     "output_type": "stream",
     "text": [
      "<class 'pandas.core.frame.DataFrame'>\n",
      "Index: 21 entries, 0 to 20\n",
      "Data columns (total 5 columns):\n",
      " #   Column       Non-Null Count  Dtype \n",
      "---  ------       --------------  ----- \n",
      " 0   Position     21 non-null     object\n",
      " 1   Drive_name   21 non-null     object\n",
      " 2   Nationality  21 non-null     object\n",
      " 3   Car          21 non-null     object\n",
      " 4   Point        21 non-null     object\n",
      "dtypes: object(5)\n",
      "memory usage: 1008.0+ bytes\n"
     ]
    }
   ],
   "source": [
    "df.info()"
   ]
  },
  {
   "cell_type": "code",
   "execution_count": 54,
   "metadata": {},
   "outputs": [],
   "source": [
    "df[\"Point\"]=df[\"Point\"].astype(float)"
   ]
  },
  {
   "cell_type": "code",
   "execution_count": 55,
   "metadata": {},
   "outputs": [
    {
     "name": "stdout",
     "output_type": "stream",
     "text": [
      "<class 'pandas.core.frame.DataFrame'>\n",
      "Index: 21 entries, 0 to 20\n",
      "Data columns (total 5 columns):\n",
      " #   Column       Non-Null Count  Dtype  \n",
      "---  ------       --------------  -----  \n",
      " 0   Position     21 non-null     object \n",
      " 1   Drive_name   21 non-null     object \n",
      " 2   Nationality  21 non-null     object \n",
      " 3   Car          21 non-null     object \n",
      " 4   Point        21 non-null     float64\n",
      "dtypes: float64(1), object(4)\n",
      "memory usage: 1008.0+ bytes\n"
     ]
    }
   ],
   "source": [
    "df.info()"
   ]
  },
  {
   "cell_type": "code",
   "execution_count": 56,
   "metadata": {},
   "outputs": [
    {
     "data": {
      "text/html": [
       "<div>\n",
       "<style scoped>\n",
       "    .dataframe tbody tr th:only-of-type {\n",
       "        vertical-align: middle;\n",
       "    }\n",
       "\n",
       "    .dataframe tbody tr th {\n",
       "        vertical-align: top;\n",
       "    }\n",
       "\n",
       "    .dataframe thead th {\n",
       "        text-align: right;\n",
       "    }\n",
       "</style>\n",
       "<table border=\"1\" class=\"dataframe\">\n",
       "  <thead>\n",
       "    <tr style=\"text-align: right;\">\n",
       "      <th></th>\n",
       "      <th>Point</th>\n",
       "    </tr>\n",
       "  </thead>\n",
       "  <tbody>\n",
       "    <tr>\n",
       "      <th>count</th>\n",
       "      <td>21.000000</td>\n",
       "    </tr>\n",
       "    <tr>\n",
       "      <th>mean</th>\n",
       "      <td>73.047619</td>\n",
       "    </tr>\n",
       "    <tr>\n",
       "      <th>std</th>\n",
       "      <td>85.755744</td>\n",
       "    </tr>\n",
       "    <tr>\n",
       "      <th>min</th>\n",
       "      <td>0.000000</td>\n",
       "    </tr>\n",
       "    <tr>\n",
       "      <th>25%</th>\n",
       "      <td>5.000000</td>\n",
       "    </tr>\n",
       "    <tr>\n",
       "      <th>50%</th>\n",
       "      <td>22.000000</td>\n",
       "    </tr>\n",
       "    <tr>\n",
       "      <th>75%</th>\n",
       "      <td>150.000000</td>\n",
       "    </tr>\n",
       "    <tr>\n",
       "      <th>max</th>\n",
       "      <td>277.000000</td>\n",
       "    </tr>\n",
       "  </tbody>\n",
       "</table>\n",
       "</div>"
      ],
      "text/plain": [
       "            Point\n",
       "count   21.000000\n",
       "mean    73.047619\n",
       "std     85.755744\n",
       "min      0.000000\n",
       "25%      5.000000\n",
       "50%     22.000000\n",
       "75%    150.000000\n",
       "max    277.000000"
      ]
     },
     "execution_count": 56,
     "metadata": {},
     "output_type": "execute_result"
    }
   ],
   "source": [
    "df.describe()"
   ]
  },
  {
   "cell_type": "markdown",
   "metadata": {},
   "source": [
    " ### 1. Country with the Most Drivers in the Top 20"
   ]
  },
  {
   "cell_type": "code",
   "execution_count": 73,
   "metadata": {},
   "outputs": [
    {
     "data": {
      "text/html": [
       "<div>\n",
       "<style scoped>\n",
       "    .dataframe tbody tr th:only-of-type {\n",
       "        vertical-align: middle;\n",
       "    }\n",
       "\n",
       "    .dataframe tbody tr th {\n",
       "        vertical-align: top;\n",
       "    }\n",
       "\n",
       "    .dataframe thead th {\n",
       "        text-align: right;\n",
       "    }\n",
       "</style>\n",
       "<table border=\"1\" class=\"dataframe\">\n",
       "  <thead>\n",
       "    <tr style=\"text-align: right;\">\n",
       "      <th></th>\n",
       "      <th>Nationality</th>\n",
       "      <th>Position</th>\n",
       "      <th>Drive_name</th>\n",
       "      <th>Car</th>\n",
       "      <th>Point</th>\n",
       "    </tr>\n",
       "  </thead>\n",
       "  <tbody>\n",
       "    <tr>\n",
       "      <th>7</th>\n",
       "      <td>GBR</td>\n",
       "      <td>4</td>\n",
       "      <td>4</td>\n",
       "      <td>4</td>\n",
       "      <td>4</td>\n",
       "    </tr>\n",
       "    <tr>\n",
       "      <th>6</th>\n",
       "      <td>FRA</td>\n",
       "      <td>2</td>\n",
       "      <td>2</td>\n",
       "      <td>2</td>\n",
       "      <td>2</td>\n",
       "    </tr>\n",
       "    <tr>\n",
       "      <th>0</th>\n",
       "      <td>AUS</td>\n",
       "      <td>2</td>\n",
       "      <td>2</td>\n",
       "      <td>2</td>\n",
       "      <td>2</td>\n",
       "    </tr>\n",
       "    <tr>\n",
       "      <th>4</th>\n",
       "      <td>ESP</td>\n",
       "      <td>2</td>\n",
       "      <td>2</td>\n",
       "      <td>2</td>\n",
       "      <td>2</td>\n",
       "    </tr>\n",
       "    <tr>\n",
       "      <th>2</th>\n",
       "      <td>CHN</td>\n",
       "      <td>1</td>\n",
       "      <td>1</td>\n",
       "      <td>1</td>\n",
       "      <td>1</td>\n",
       "    </tr>\n",
       "    <tr>\n",
       "      <th>3</th>\n",
       "      <td>DEN</td>\n",
       "      <td>1</td>\n",
       "      <td>1</td>\n",
       "      <td>1</td>\n",
       "      <td>1</td>\n",
       "    </tr>\n",
       "    <tr>\n",
       "      <th>1</th>\n",
       "      <td>CAN</td>\n",
       "      <td>1</td>\n",
       "      <td>1</td>\n",
       "      <td>1</td>\n",
       "      <td>1</td>\n",
       "    </tr>\n",
       "    <tr>\n",
       "      <th>5</th>\n",
       "      <td>FIN</td>\n",
       "      <td>1</td>\n",
       "      <td>1</td>\n",
       "      <td>1</td>\n",
       "      <td>1</td>\n",
       "    </tr>\n",
       "    <tr>\n",
       "      <th>8</th>\n",
       "      <td>GER</td>\n",
       "      <td>1</td>\n",
       "      <td>1</td>\n",
       "      <td>1</td>\n",
       "      <td>1</td>\n",
       "    </tr>\n",
       "    <tr>\n",
       "      <th>9</th>\n",
       "      <td>JPN</td>\n",
       "      <td>1</td>\n",
       "      <td>1</td>\n",
       "      <td>1</td>\n",
       "      <td>1</td>\n",
       "    </tr>\n",
       "    <tr>\n",
       "      <th>10</th>\n",
       "      <td>MEX</td>\n",
       "      <td>1</td>\n",
       "      <td>1</td>\n",
       "      <td>1</td>\n",
       "      <td>1</td>\n",
       "    </tr>\n",
       "    <tr>\n",
       "      <th>11</th>\n",
       "      <td>MON</td>\n",
       "      <td>1</td>\n",
       "      <td>1</td>\n",
       "      <td>1</td>\n",
       "      <td>1</td>\n",
       "    </tr>\n",
       "    <tr>\n",
       "      <th>12</th>\n",
       "      <td>NED</td>\n",
       "      <td>1</td>\n",
       "      <td>1</td>\n",
       "      <td>1</td>\n",
       "      <td>1</td>\n",
       "    </tr>\n",
       "    <tr>\n",
       "      <th>13</th>\n",
       "      <td>THA</td>\n",
       "      <td>1</td>\n",
       "      <td>1</td>\n",
       "      <td>1</td>\n",
       "      <td>1</td>\n",
       "    </tr>\n",
       "    <tr>\n",
       "      <th>14</th>\n",
       "      <td>USA</td>\n",
       "      <td>1</td>\n",
       "      <td>1</td>\n",
       "      <td>1</td>\n",
       "      <td>1</td>\n",
       "    </tr>\n",
       "  </tbody>\n",
       "</table>\n",
       "</div>"
      ],
      "text/plain": [
       "   Nationality  Position  Drive_name  Car  Point\n",
       "7          GBR         4           4    4      4\n",
       "6          FRA         2           2    2      2\n",
       "0          AUS         2           2    2      2\n",
       "4          ESP         2           2    2      2\n",
       "2          CHN         1           1    1      1\n",
       "3          DEN         1           1    1      1\n",
       "1          CAN         1           1    1      1\n",
       "5          FIN         1           1    1      1\n",
       "8          GER         1           1    1      1\n",
       "9          JPN         1           1    1      1\n",
       "10         MEX         1           1    1      1\n",
       "11         MON         1           1    1      1\n",
       "12         NED         1           1    1      1\n",
       "13         THA         1           1    1      1\n",
       "14         USA         1           1    1      1"
      ]
     },
     "execution_count": 73,
     "metadata": {},
     "output_type": "execute_result"
    }
   ],
   "source": [
    "df_topna = df.groupby('Nationality').count().reset_index() # After using groupby, the resulting Df might not have 'Nationality' as a column.So have to reset_index\n",
    "# Sort by 'Point' in descending order\n",
    "df_sorted = df_topna.sort_values(by='Drive_name', ascending=False)\n",
    "df_sorted"
   ]
  },
  {
   "cell_type": "markdown",
   "metadata": {},
   "source": [
    "* **Observation**: The United Kingdom (GBR) has the highest representation, with 4 drivers in the top 20 of F1 2024."
   ]
  },
  {
   "cell_type": "markdown",
   "metadata": {},
   "source": [
    "* **Comparison**: According to historical data, the UK is known for producing the most F1 drivers (163 in total according to Wikipedia). This trend continues in 2024"
   ]
  },
  {
   "cell_type": "markdown",
   "metadata": {},
   "source": [
    "#### Here is the barchart of Top 4 Nationalities with the most drivers in the top 20"
   ]
  },
  {
   "cell_type": "code",
   "execution_count": 74,
   "metadata": {},
   "outputs": [
    {
     "data": {
      "text/plain": [
       "<Figure size 1000x600 with 0 Axes>"
      ]
     },
     "metadata": {},
     "output_type": "display_data"
    },
    {
     "data": {
      "image/png": "[encoded data removed]",
      "text/plain": [
       "<Figure size 640x480 with 1 Axes>"
      ]
     },
     "metadata": {},
     "output_type": "display_data"
    }
   ],
   "source": [
    "# Select top 4 and combine the rest into 'Others'\n",
    "top_4 = df_sorted.head(4)\n",
    "others = pd.DataFrame({'Nationality': ['Others'], 'Drive_name': [1]})\n",
    "# Combine top 4 with 'Others'\n",
    "df_combined = pd.concat([top_4, others])\n",
    "\n",
    "# Plot\n",
    "plt.figure(figsize=(10, 6))\n",
    "ax = df_combined.plot.bar(x='Nationality', y='Drive_name', rot=0, color=['skyblue', 'salmon'])\n",
    "ax.set_xlabel('Nationality')\n",
    "ax.set_ylabel('Count of Drivers')\n",
    "ax.set_title('Top 4 Nationalities and Others')\n",
    "plt.show()"
   ]
  },
  {
   "cell_type": "markdown",
   "metadata": {},
   "source": [
    "**Follow-up**: France, Australia, and Spain each have 2 drivers in the top 20, showcasing strong competition from these nations."
   ]
  },
  {
   "cell_type": "markdown",
   "metadata": {},
   "source": [
    "### 2. Most Popular Engine in F1 2024\n",
    "\n",
    "* **Historical Context**: Ferrari was awarded the International Engine of the Year (IEOTY) in 2019, raising the question of whether it remains the most popular and successful engine in 2024."
   ]
  },
  {
   "cell_type": "code",
   "execution_count": 86,
   "metadata": {},
   "outputs": [],
   "source": [
    "# Group by accorrding to big engine\n",
    "def classify_engine(car):\n",
    "    if 'Ferrari' in car:\n",
    "        return 'Ferrari'\n",
    "    elif 'Honda' in car:\n",
    "        return 'Honda'\n",
    "    elif 'Mercedes' in car:\n",
    "        return 'Mercedes'\n",
    "    else: \n",
    "        return 'Renault'\n",
    "\n",
    "# Add new column 'Engine'\n",
    "df['Engine'] = df['Car'].apply(classify_engine)"
   ]
  },
  {
   "cell_type": "code",
   "execution_count": 87,
   "metadata": {},
   "outputs": [
    {
     "name": "stdout",
     "output_type": "stream",
     "text": [
      "Total point by Engine:\n",
      "     Engine  Point\n",
      "2  Mercedes  709.0\n",
      "1     Honda  442.0\n",
      "0   Ferrari  372.0\n",
      "3   Renault   11.0\n"
     ]
    }
   ],
   "source": [
    "# Group by 'Engine' and sum point\n",
    "df_grouped_engine = df.groupby('Engine')['Point'].sum().reset_index()\n",
    "df_grouped_engine = df_grouped_engine.sort_values(by='Point', ascending=False)\n",
    "\n",
    "\n",
    "print(\"Total point by Engine:\")\n",
    "print(df_grouped_engine)"
   ]
  },
  {
   "cell_type": "code",
   "execution_count": 105,
   "metadata": {},
   "outputs": [
    {
     "name": "stdout",
     "output_type": "stream",
     "text": [
      "     Engine  Car\n",
      "0   Ferrari    7\n",
      "1     Honda    4\n",
      "2  Mercedes    8\n",
      "3   Renault    2\n"
     ]
    }
   ],
   "source": [
    "df_count_engine = df.groupby('Engine')['Car'].count().reset_index()\n",
    "print(df_count_engine)"
   ]
  },
  {
   "cell_type": "code",
   "execution_count": 94,
   "metadata": {},
   "outputs": [
    {
     "data": {
      "text/html": [
       "<div>\n",
       "<style scoped>\n",
       "    .dataframe tbody tr th:only-of-type {\n",
       "        vertical-align: middle;\n",
       "    }\n",
       "\n",
       "    .dataframe tbody tr th {\n",
       "        vertical-align: top;\n",
       "    }\n",
       "\n",
       "    .dataframe thead th {\n",
       "        text-align: right;\n",
       "    }\n",
       "</style>\n",
       "<table border=\"1\" class=\"dataframe\">\n",
       "  <thead>\n",
       "    <tr style=\"text-align: right;\">\n",
       "      <th></th>\n",
       "      <th>Engine</th>\n",
       "      <th>Car</th>\n",
       "      <th>Point</th>\n",
       "    </tr>\n",
       "  </thead>\n",
       "  <tbody>\n",
       "    <tr>\n",
       "      <th>0</th>\n",
       "      <td>Ferrari</td>\n",
       "      <td>7</td>\n",
       "      <td>372.0</td>\n",
       "    </tr>\n",
       "    <tr>\n",
       "      <th>1</th>\n",
       "      <td>Honda</td>\n",
       "      <td>4</td>\n",
       "      <td>442.0</td>\n",
       "    </tr>\n",
       "    <tr>\n",
       "      <th>2</th>\n",
       "      <td>Mercedes</td>\n",
       "      <td>8</td>\n",
       "      <td>709.0</td>\n",
       "    </tr>\n",
       "    <tr>\n",
       "      <th>3</th>\n",
       "      <td>Renault</td>\n",
       "      <td>2</td>\n",
       "      <td>11.0</td>\n",
       "    </tr>\n",
       "  </tbody>\n",
       "</table>\n",
       "</div>"
      ],
      "text/plain": [
       "     Engine  Car  Point\n",
       "0   Ferrari    7  372.0\n",
       "1     Honda    4  442.0\n",
       "2  Mercedes    8  709.0\n",
       "3   Renault    2   11.0"
      ]
     },
     "execution_count": 94,
     "metadata": {},
     "output_type": "execute_result"
    }
   ],
   "source": [
    "df_engine_popular = pd.merge(df_count_engine,df_grouped_engine,on ='Engine')\n",
    "df_engine_popular"
   ]
  },
  {
   "cell_type": "markdown",
   "metadata": {},
   "source": [
    "* **Current Findings**: In the 2024 season, Ferrari engines powered 7 cars in the top 20. However, the most popular engine by total points is Mercedes, with a total of 709 points.\n",
    "* **Interesting Insight**: Despite Ferrari’s past accolades, Renault, often considered less dominant, has surprisingly secured the top 1 position in points, indicating potential growth in its adoption by drivers in future seasons."
   ]
  },
  {
   "cell_type": "code",
   "execution_count": 102,
   "metadata": {},
   "outputs": [],
   "source": [
    "import numpy as np"
   ]
  },
  {
   "cell_type": "code",
   "execution_count": 104,
   "metadata": {},
   "outputs": [
    {
     "data": {
      "image/png": "[encoded data removed]",
      "text/plain": [
       "<Figure size 1000x600 with 2 Axes>"
      ]
     },
     "metadata": {},
     "output_type": "display_data"
    }
   ],
   "source": [
    "#Plot \n",
    "bar_width = 0.35\n",
    "index = np.arange(len(df_engine_popular['Engine']))\n",
    "\n",
    "# Create the bar plot for Points and Cars\n",
    "fig, ax = plt.subplots(figsize=(10, 6))\n",
    "\n",
    "bar1 = ax.bar(index, df_engine_popular['Point'], bar_width, label='Total Points', color='b')\n",
    "# bar2 = ax.bar(index + bar_width, df_engine_popular['Car'], bar_width, label='Number of Cars', color='g')\n",
    "\n",
    "# right side ticks\n",
    "ax2 = ax.twinx()\n",
    "ax2.tick_params(\"y\", colors = \"r\")\n",
    "ax2.set_ylabel(\"Number of Cars\", fontsize=14, color='r')\n",
    "ax2.set_ylim(0,10)\n",
    "\n",
    "# Plot Car data on the secondary y-axis as a line plot\n",
    "ax2.plot(index, df_engine_popular['Car'], color='r', marker='o', linestyle='-', label='Number of Cars')\n",
    "\n",
    "# Add labels, title, and custom x-axis tick labels\n",
    "ax.set_xlabel('Engine', fontsize=14)\n",
    "ax.set_ylabel('Value', fontsize=14)\n",
    "ax.set_title('Total Points and Number of Cars by Engine in F1', fontsize=16)\n",
    "ax.set_xticks(index + bar_width / 2)\n",
    "ax.set_xticklabels(df_engine_popular['Engine'])\n",
    "\n",
    "rects = ax.patches\n",
    "for rect, label in zip(rects, df_engine_popular['Point']):\n",
    "    height = rect.get_height()\n",
    "    ax.text(rect.get_x() + rect.get_width() / 2, height + 10, round(label, 1), ha=\"center\", va=\"bottom\", fontsize=12)\n",
    "\n",
    "for i, (x, y) in enumerate(zip(index, df_engine_popular['Car'])):\n",
    "    ax2.text(x, y + 0.3, str(y), color='r', ha=\"center\", va=\"bottom\", fontsize=12)\n",
    "\n",
    "# Display plot\n",
    "plt.show()"
   ]
  },
  {
   "cell_type": "markdown",
   "metadata": {},
   "source": [
    "### Summary:\n",
    "* The UK continues to dominate in terms of the number of drivers in the top 20.\n",
    "* Mercedes has proven to be the most effective engine in terms of points, while Renault's unexpected top performance could signal a shift in engine preferences in the future.\n",
    "\n",
    "This analysis combines historical context with current data to provide a more comprehensive view of trends in F1 2024."
   ]
  }
 ],
 "metadata": {
  "kernelspec": {
   "display_name": "venv",
   "language": "python",
   "name": "python3"
  },
  "language_info": {
   "codemirror_mode": {
    "name": "ipython",
    "version": 3
   },
   "file_extension": ".py",
   "mimetype": "text/x-python",
   "name": "python",
   "nbconvert_exporter": "python",
   "pygments_lexer": "ipython3",
   "version": "3.12.3"
  }
 },
 "nbformat": 4,
 "nbformat_minor": 2
}
